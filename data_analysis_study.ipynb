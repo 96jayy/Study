{
  "nbformat": 4,
  "nbformat_minor": 0,
  "metadata": {
    "colab": {
      "private_outputs": true,
      "provenance": [],
      "authorship_tag": "ABX9TyMEcBJLO65fp/2Y8vvOJNwh",
      "include_colab_link": true
    },
    "kernelspec": {
      "name": "python3",
      "display_name": "Python 3"
    },
    "language_info": {
      "name": "python"
    }
  },
  "cells": [
    {
      "cell_type": "markdown",
      "metadata": {
        "id": "view-in-github",
        "colab_type": "text"
      },
      "source": [
        "<a href=\"https://colab.research.google.com/github/96jayy/Study/blob/main/data_analysis_study.ipynb\" target=\"_parent\"><img src=\"https://colab.research.google.com/assets/colab-badge.svg\" alt=\"Open In Colab\"/></a>"
      ]
    },
    {
      "cell_type": "markdown",
      "source": [
        "#기초 of 기초"
      ],
      "metadata": {
        "id": "T0THaBayt8z4"
      }
    },
    {
      "cell_type": "code",
      "execution_count": null,
      "metadata": {
        "id": "-nAkgg9oq6xw"
      },
      "outputs": [],
      "source": [
        "!pip list #파이썬 패키지 목록"
      ]
    },
    {
      "cell_type": "code",
      "source": [
        "!pip install numpy #패키지 설치"
      ],
      "metadata": {
        "id": "MPU6IswWrtsq"
      },
      "execution_count": null,
      "outputs": []
    },
    {
      "cell_type": "code",
      "source": [
        "import numpy as np #설치한 패키지 불러오기"
      ],
      "metadata": {
        "id": "F5n25lg1r7Bu"
      },
      "execution_count": null,
      "outputs": []
    },
    {
      "cell_type": "code",
      "source": [
        "print(\"Hello, world!\")"
      ],
      "metadata": {
        "id": "K-k8i4a_sYEj"
      },
      "execution_count": null,
      "outputs": []
    },
    {
      "cell_type": "code",
      "source": [
        "1a=1 #숫자는 변수명의 제일 처음에 올 수 없다"
      ],
      "metadata": {
        "id": "yHmyFfvLs1XT"
      },
      "execution_count": null,
      "outputs": []
    },
    {
      "cell_type": "code",
      "source": [
        "a=1\n",
        "a"
      ],
      "metadata": {
        "id": "Q5_pA1tOs6kG"
      },
      "execution_count": null,
      "outputs": []
    },
    {
      "cell_type": "code",
      "source": [
        "def my_calc(a,b): #파이썬에서 함수를 만드는 방법\n",
        "    c=a*2+b\n",
        "    print(c)\n",
        "my_calc(2,1)"
      ],
      "metadata": {
        "id": "hR96cb28s-Cw"
      },
      "execution_count": null,
      "outputs": []
    },
    {
      "cell_type": "code",
      "source": [
        "def under_3(a):\n",
        "    if a<3:\n",
        "        return False\n",
        "    else:\n",
        "        return True\n",
        "under_3(2)"
      ],
      "metadata": {
        "id": "EOGgHdojtK-T"
      },
      "execution_count": null,
      "outputs": []
    },
    {
      "cell_type": "code",
      "source": [
        "def rep_9(a):\n",
        "    b=[]\n",
        "    for i in range(a,a+9):\n",
        "        b.append(i)\n",
        "    return b\n",
        "rep_9(1)"
      ],
      "metadata": {
        "id": "rG8ue8r9tg1h"
      },
      "execution_count": null,
      "outputs": []
    },
    {
      "cell_type": "markdown",
      "source": [
        "#pandas"
      ],
      "metadata": {
        "id": "EeINk7Lct_lV"
      }
    },
    {
      "cell_type": "code",
      "source": [
        "import pandas as pd"
      ],
      "metadata": {
        "id": "QS0-Jg2guBC1"
      },
      "execution_count": null,
      "outputs": []
    },
    {
      "cell_type": "code",
      "source": [
        "from sklearn.datasets import load_iris #iris data 불러오기"
      ],
      "metadata": {
        "id": "cU5rhfRWuD3B"
      },
      "execution_count": null,
      "outputs": []
    },
    {
      "cell_type": "code",
      "source": [
        "?load_iris"
      ],
      "metadata": {
        "id": "urini0LOuHqT"
      },
      "execution_count": null,
      "outputs": []
    },
    {
      "cell_type": "code",
      "source": [
        "iris=load_iris()"
      ],
      "metadata": {
        "id": "sGoUybfIuO96"
      },
      "execution_count": null,
      "outputs": []
    },
    {
      "cell_type": "code",
      "source": [
        "print(iris.feature_names)"
      ],
      "metadata": {
        "id": "z7EXNshbuOqx"
      },
      "execution_count": null,
      "outputs": []
    },
    {
      "cell_type": "code",
      "source": [
        "print(iris.data[:5])"
      ],
      "metadata": {
        "id": "LpnZ8izIuiXt"
      },
      "execution_count": null,
      "outputs": []
    },
    {
      "cell_type": "code",
      "source": [
        "print(iris.target_names) #종속변수"
      ],
      "metadata": {
        "id": "xxvdY1afu0rX"
      },
      "execution_count": null,
      "outputs": []
    },
    {
      "cell_type": "code",
      "source": [
        "type(iris.data)"
      ],
      "metadata": {
        "id": "jUDhCsHRvAA2"
      },
      "execution_count": null,
      "outputs": []
    },
    {
      "cell_type": "code",
      "source": [
        "df=pd.DataFrame(data=iris.data,columns=iris.feature_names) #pandas의 dataframe함수 활용"
      ],
      "metadata": {
        "id": "lnCe_2dvvIjB"
      },
      "execution_count": null,
      "outputs": []
    },
    {
      "cell_type": "code",
      "source": [
        "df['species']=iris.target"
      ],
      "metadata": {
        "id": "-p3FQEXQvUQr"
      },
      "execution_count": null,
      "outputs": []
    },
    {
      "cell_type": "code",
      "source": [
        "df.head()"
      ],
      "metadata": {
        "id": "ubQ50g7hvQgN"
      },
      "execution_count": null,
      "outputs": []
    },
    {
      "cell_type": "code",
      "source": [
        "import seaborn as sns\n",
        "iris=sns.load_dataset('iris')\n",
        "iris.head()"
      ],
      "metadata": {
        "id": "7jopUQF_vh0q"
      },
      "execution_count": null,
      "outputs": []
    },
    {
      "cell_type": "code",
      "source": [
        "df.columns"
      ],
      "metadata": {
        "id": "HYknx-ukvn4y"
      },
      "execution_count": null,
      "outputs": []
    },
    {
      "cell_type": "code",
      "source": [
        "df.columns=['sl','sw','pl','pw','sp']\n",
        "df.columns"
      ],
      "metadata": {
        "id": "TDGlPxX8v81j"
      },
      "execution_count": null,
      "outputs": []
    },
    {
      "cell_type": "code",
      "source": [
        "df.rename(columns={'sp':'s'},inplace=True)\n",
        "df.columns"
      ],
      "metadata": {
        "id": "kJ8XoaVvwMKu"
      },
      "execution_count": null,
      "outputs": []
    },
    {
      "cell_type": "code",
      "source": [
        "df.values"
      ],
      "metadata": {
        "id": "S6LsPH1Awav7"
      },
      "execution_count": null,
      "outputs": []
    },
    {
      "cell_type": "code",
      "source": [
        "df.index"
      ],
      "metadata": {
        "id": "lmgItWpowd8q"
      },
      "execution_count": null,
      "outputs": []
    },
    {
      "cell_type": "code",
      "source": [
        "df[::-1] #역순으로 불러오는 인덱스"
      ],
      "metadata": {
        "id": "-e49Kw-hwp7o"
      },
      "execution_count": null,
      "outputs": []
    },
    {
      "cell_type": "code",
      "source": [
        "df['sl']"
      ],
      "metadata": {
        "id": "Syed1ilywzd0"
      },
      "execution_count": null,
      "outputs": []
    },
    {
      "cell_type": "code",
      "source": [
        "df[['sl','sw','s']] #인덱스 안에 list구조를 넣어야 한다"
      ],
      "metadata": {
        "id": "5MLQyzLzw3az"
      },
      "execution_count": null,
      "outputs": []
    },
    {
      "cell_type": "code",
      "source": [
        "df[['sl','sw','s']][:4]"
      ],
      "metadata": {
        "id": "OyuYM_tbxD5-"
      },
      "execution_count": null,
      "outputs": []
    },
    {
      "cell_type": "code",
      "source": [
        "df.loc[0:4,['sl','sw','s']] #loc는 a:b에서 b를 포함한다. 일반 인덱스는 b는 포함하지 않는다"
      ],
      "metadata": {
        "id": "eH5TuSDWxKF2"
      },
      "execution_count": null,
      "outputs": []
    },
    {
      "cell_type": "code",
      "source": [
        "df.iloc[0:4,[0,1,4]] #iloc를 쓰면 변수 명이 아닌 인덱스로 지정 가능"
      ],
      "metadata": {
        "id": "qnsVxw1uxV5Y"
      },
      "execution_count": null,
      "outputs": []
    },
    {
      "cell_type": "code",
      "source": [
        "df_1=df[df.s==1]\n",
        "df_1.head()"
      ],
      "metadata": {
        "id": "5lwz8Eg7xj62"
      },
      "execution_count": null,
      "outputs": []
    },
    {
      "cell_type": "code",
      "source": [
        "df_1.info() #R의 str함수와 유사한 형태"
      ],
      "metadata": {
        "id": "gdEoGWqXxqmG"
      },
      "execution_count": null,
      "outputs": []
    },
    {
      "cell_type": "code",
      "source": [
        "df_1.tail()"
      ],
      "metadata": {
        "id": "ixY66aUAxxPL"
      },
      "execution_count": null,
      "outputs": []
    },
    {
      "cell_type": "code",
      "source": [
        "df_2=df[(df.sl>6) & (df.s==1)]\n",
        "df_2.head()"
      ],
      "metadata": {
        "id": "2a4Wc_z4x2ed"
      },
      "execution_count": null,
      "outputs": []
    },
    {
      "cell_type": "code",
      "source": [
        "df_3=df.loc[df.s==0,['sl','sw','s']]\n",
        "df_3.info()"
      ],
      "metadata": {
        "id": "dSLwLD3nyEvg"
      },
      "execution_count": null,
      "outputs": []
    },
    {
      "cell_type": "code",
      "source": [
        "df_4=df[df.columns.difference(['s'])] #difference를 써서 제외하자\n",
        "df_4.info()"
      ],
      "metadata": {
        "id": "NeLEnBfLyO6Y"
      },
      "execution_count": null,
      "outputs": []
    },
    {
      "cell_type": "markdown",
      "source": [
        "#numpy"
      ],
      "metadata": {
        "id": "fI8vX7z0yl2j"
      }
    },
    {
      "cell_type": "code",
      "source": [
        "import numpy as np"
      ],
      "metadata": {
        "id": "B51MzfczyhUy"
      },
      "execution_count": null,
      "outputs": []
    },
    {
      "cell_type": "code",
      "source": [
        "a0=np.array(1)\n",
        "a0"
      ],
      "metadata": {
        "id": "8HVoMgTJy5_E"
      },
      "execution_count": null,
      "outputs": []
    },
    {
      "cell_type": "code",
      "source": [
        "a1=np.array([1,2])\n",
        "a1"
      ],
      "metadata": {
        "id": "VVDNXrDmy8np"
      },
      "execution_count": null,
      "outputs": []
    },
    {
      "cell_type": "code",
      "source": [
        "a2=np.array([[1,2],[3,4]])\n",
        "print(a2)"
      ],
      "metadata": {
        "id": "IZlEz-FTzCqx"
      },
      "execution_count": null,
      "outputs": []
    },
    {
      "cell_type": "code",
      "source": [
        "a3=np.array([[[1,2,3,],[4,5,6]],[[3,4,5],[6,7,8]]])\n",
        "print(a3)"
      ],
      "metadata": {
        "id": "0rPJftEozER5"
      },
      "execution_count": null,
      "outputs": []
    },
    {
      "cell_type": "code",
      "source": [
        "a3"
      ],
      "metadata": {
        "id": "sHHEXxG8zpPg"
      },
      "execution_count": null,
      "outputs": []
    },
    {
      "cell_type": "code",
      "source": [
        "print(a0.ndim,a1.ndim,a2.ndim,a3.ndim)"
      ],
      "metadata": {
        "id": "RSipo6Grzrmx"
      },
      "execution_count": null,
      "outputs": []
    },
    {
      "cell_type": "code",
      "source": [
        "print(a0.shape,a1.shape,a2.shape,a3.shape)"
      ],
      "metadata": {
        "id": "qjum-6zpz05Y"
      },
      "execution_count": null,
      "outputs": []
    },
    {
      "cell_type": "code",
      "source": [
        "a3[0][1][2] #원하는 인덱스를 하나씩 순서대로 지정"
      ],
      "metadata": {
        "id": "sNrvShAkz6Io"
      },
      "execution_count": null,
      "outputs": []
    },
    {
      "cell_type": "markdown",
      "source": [
        "#구글 드라이브에서 코랩으로 데이터 불러오기"
      ],
      "metadata": {
        "id": "CO1EoOja1tXk"
      }
    },
    {
      "cell_type": "code",
      "source": [
        "from google.colab import drive\n",
        "drive.mount('/content/drive')"
      ],
      "metadata": {
        "id": "ghRORJ210N6_"
      },
      "execution_count": null,
      "outputs": []
    },
    {
      "cell_type": "code",
      "source": [
        "import pandas as pd"
      ],
      "metadata": {
        "id": "rCrWBAa011tV"
      },
      "execution_count": null,
      "outputs": []
    },
    {
      "cell_type": "code",
      "source": [
        "air=pd.read_csv('/content/drive/MyDrive/python/ch3-1.csv')\n",
        "air.head()"
      ],
      "metadata": {
        "id": "7Rto9hTX13NE"
      },
      "execution_count": null,
      "outputs": []
    },
    {
      "cell_type": "code",
      "source": [
        "air.info()"
      ],
      "metadata": {
        "id": "KBL8pwT52JTN"
      },
      "execution_count": null,
      "outputs": []
    },
    {
      "cell_type": "markdown",
      "source": [
        "날짜 문자열, 공기 농도 6개열 숫자형, 24행\n",
        "non_null count에서 entries와의 차이만큼 결측값 갯수"
      ],
      "metadata": {
        "id": "4pmGg_ux2MKX"
      }
    },
    {
      "cell_type": "code",
      "source": [
        "air['O3']"
      ],
      "metadata": {
        "id": "wfSyXfTy2K74"
      },
      "execution_count": null,
      "outputs": []
    },
    {
      "cell_type": "code",
      "source": [
        "air.isnull()"
      ],
      "metadata": {
        "id": "1SVrbiER2h1g"
      },
      "execution_count": null,
      "outputs": []
    },
    {
      "cell_type": "code",
      "source": [
        "air.isna()"
      ],
      "metadata": {
        "id": "xcyodn-m2lIG"
      },
      "execution_count": null,
      "outputs": []
    },
    {
      "cell_type": "code",
      "source": [
        "air.isnull().sum() #깔끔하게 몇개의 결측치가 있는지 나타내준다"
      ],
      "metadata": {
        "id": "w8SJplXf2nr7"
      },
      "execution_count": null,
      "outputs": []
    },
    {
      "cell_type": "code",
      "source": [
        "air.isna().sum()"
      ],
      "metadata": {
        "id": "cwfmUzhm2txH"
      },
      "execution_count": null,
      "outputs": []
    },
    {
      "cell_type": "code",
      "source": [
        "air_d=air.dropna(axis=0) #axis=0 행제거, axis=3 열제거\n",
        "air_d"
      ],
      "metadata": {
        "id": "hxvEveEv2x4S"
      },
      "execution_count": null,
      "outputs": []
    },
    {
      "cell_type": "code",
      "source": [
        "air.mean()"
      ],
      "metadata": {
        "id": "L67BERyI3Bo6"
      },
      "execution_count": null,
      "outputs": []
    },
    {
      "cell_type": "code",
      "source": [
        "air_d.mean()"
      ],
      "metadata": {
        "id": "7g0XlcAR3J9K"
      },
      "execution_count": null,
      "outputs": []
    },
    {
      "cell_type": "code",
      "source": [
        "air_m=air.fillna(air.mean())\n",
        "air_m"
      ],
      "metadata": {
        "id": "ADtsd2Ug3LE0"
      },
      "execution_count": null,
      "outputs": []
    },
    {
      "cell_type": "code",
      "source": [
        "air.median()"
      ],
      "metadata": {
        "id": "AhiSn52k3Tqy"
      },
      "execution_count": null,
      "outputs": []
    },
    {
      "cell_type": "code",
      "source": [
        "air_md=air.fillna(air.median())\n",
        "air_md"
      ],
      "metadata": {
        "id": "JekT3Bhb3fJg"
      },
      "execution_count": null,
      "outputs": []
    },
    {
      "cell_type": "markdown",
      "source": [
        "#Chapter 3"
      ],
      "metadata": {
        "id": "A7gLsc2r4PYJ"
      }
    },
    {
      "cell_type": "code",
      "source": [
        "import pandas as pd\n",
        "hat=pd.read_csv('/content/drive/MyDrive/python/ch4-1.csv')"
      ],
      "metadata": {
        "id": "zFhTie__3jYJ"
      },
      "execution_count": null,
      "outputs": []
    },
    {
      "cell_type": "code",
      "source": [
        "hat.head()"
      ],
      "metadata": {
        "id": "fvbsoFZz3piD"
      },
      "execution_count": null,
      "outputs": []
    },
    {
      "cell_type": "code",
      "source": [
        "hat.info()"
      ],
      "metadata": {
        "id": "sJ88wTQO4aLx"
      },
      "execution_count": null,
      "outputs": []
    },
    {
      "cell_type": "code",
      "source": [
        "hat"
      ],
      "metadata": {
        "id": "JsBwwEtf4jPP"
      },
      "execution_count": null,
      "outputs": []
    },
    {
      "cell_type": "code",
      "source": [
        "hat.mean()"
      ],
      "metadata": {
        "id": "lKAzhLLd4kI_"
      },
      "execution_count": null,
      "outputs": []
    },
    {
      "cell_type": "code",
      "source": [
        "hat.sum()"
      ],
      "metadata": {
        "id": "khC3e2lR4oY_"
      },
      "execution_count": null,
      "outputs": []
    },
    {
      "cell_type": "code",
      "source": [
        "hat.std()"
      ],
      "metadata": {
        "id": "POl8_txO4rtH"
      },
      "execution_count": null,
      "outputs": []
    },
    {
      "cell_type": "code",
      "source": [
        "hat.median()"
      ],
      "metadata": {
        "id": "HBtrM70v4xnf"
      },
      "execution_count": null,
      "outputs": []
    },
    {
      "cell_type": "code",
      "source": [
        "sorted(hat['chick'])"
      ],
      "metadata": {
        "id": "BktSKUXJ44je"
      },
      "execution_count": null,
      "outputs": []
    },
    {
      "cell_type": "code",
      "source": [
        "hat.sort_values(by=['chick'],ascending=False)"
      ],
      "metadata": {
        "id": "e-eiq9f0451W"
      },
      "execution_count": null,
      "outputs": []
    },
    {
      "cell_type": "code",
      "source": [
        "hat.min()"
      ],
      "metadata": {
        "id": "4733z0m05P_W"
      },
      "execution_count": null,
      "outputs": []
    },
    {
      "cell_type": "code",
      "source": [
        "hat.max()"
      ],
      "metadata": {
        "id": "lq3iFz9t5euO"
      },
      "execution_count": null,
      "outputs": []
    },
    {
      "cell_type": "code",
      "source": [
        "import matplotlib.pyplot as plt"
      ],
      "metadata": {
        "id": "f8UzrRB95k_m"
      },
      "execution_count": null,
      "outputs": []
    },
    {
      "cell_type": "code",
      "source": [
        "plt.bar(hat['hatchery'],hat['chick'])\n",
        "plt.show()"
      ],
      "metadata": {
        "id": "eMGWD_vf5qP2"
      },
      "execution_count": null,
      "outputs": []
    },
    {
      "cell_type": "code",
      "source": [
        "plt.figure(figsize=(10,7))\n",
        "plt.bar(hat['hatchery'],hat['chick'],color=('red','orange','yellow','green','blue','navy','purple'))\n",
        "plt.title('부화장별 병아리 부화현황')\n",
        "plt.xlabel('부화장')\n",
        "plt.ylabel('부화마릿수')\n",
        "plt.show()"
      ],
      "metadata": {
        "id": "SAhYpoPq5vHN"
      },
      "execution_count": null,
      "outputs": []
    },
    {
      "cell_type": "markdown",
      "source": [
        "한글은 안나온당..."
      ],
      "metadata": {
        "id": "dkpidGEv6YLn"
      }
    },
    {
      "cell_type": "markdown",
      "source": [
        "주피터 노트북(내 컴퓨터 드라이브를 사용할때)"
      ],
      "metadata": {
        "id": "Qb0b9XPd7GLW"
      }
    },
    {
      "cell_type": "code",
      "source": [
        "from matplotlib import font_manager,rc\n",
        "font_path=\"c:/Windows/Fonts/malgun.ttf\"\n",
        "font_name=font_manager.FontProperties(fname=font_path).get_name()\n",
        "rc('font',family=font_name)"
      ],
      "metadata": {
        "id": "AuZyZkIj6SIE"
      },
      "execution_count": null,
      "outputs": []
    },
    {
      "cell_type": "markdown",
      "source": [
        "구글 코랩(가상 서버를 사용할때)"
      ],
      "metadata": {
        "id": "OPCqpqL97LRT"
      }
    },
    {
      "cell_type": "code",
      "source": [
        "!sudo apt-get install -y fonts-nanum\n",
        "!sudo fc-cache -fv\n",
        "!rm ~/.cache/matplotlib -rf"
      ],
      "metadata": {
        "id": "nRO0SyG3-UyV"
      },
      "execution_count": null,
      "outputs": []
    },
    {
      "cell_type": "code",
      "source": [
        "import matplotlib.pyplot as plt\n",
        "plt.rc('font', family='NanumBarunGothic')"
      ],
      "metadata": {
        "id": "OpoDqP6r-0Xn"
      },
      "execution_count": null,
      "outputs": []
    },
    {
      "cell_type": "markdown",
      "source": [
        "import 하기 전 런타임 다시 시작을 해줘야한다..."
      ],
      "metadata": {
        "id": "eptXjkCBACpr"
      }
    },
    {
      "cell_type": "code",
      "source": [
        "def addtext(x,y):\n",
        "    for i in range(len(x)):\n",
        "        plt.text(i,y[i]+0.5,y[i],ha='center')"
      ],
      "metadata": {
        "id": "VsuCxQ_Z8qYl"
      },
      "execution_count": null,
      "outputs": []
    },
    {
      "cell_type": "code",
      "source": [
        "col7=sns.color_palette('Pastel2',7)\n",
        "plt.figure(figsize=(10,7))\n",
        "plt.bar(hat['hatchery'],hat['chick'],color=col7,edgecolor='black')\n",
        "addtext(hat['hatchery'],hat['chick'])\n",
        "plt.title('chick by hatchery',fontsize=17)\n",
        "plt.xlabel('hatchery')\n",
        "plt.ylabel('chick')\n",
        "plt.show()"
      ],
      "metadata": {
        "id": "9dnlknRM7Zfr"
      },
      "execution_count": null,
      "outputs": []
    },
    {
      "cell_type": "code",
      "source": [
        "pct=hat['chick']/hat['chick'].sum()\n",
        "pct"
      ],
      "metadata": {
        "id": "kq1GIOp_9eiO"
      },
      "execution_count": null,
      "outputs": []
    },
    {
      "cell_type": "code",
      "source": [
        "plt.pie(pct)"
      ],
      "metadata": {
        "id": "7fHtSQh49mDP"
      },
      "execution_count": null,
      "outputs": []
    },
    {
      "cell_type": "markdown",
      "source": [
        "chapter4-2"
      ],
      "metadata": {
        "id": "UOX0_Y2q-KES"
      }
    },
    {
      "cell_type": "code",
      "source": [
        "import pandas as pd\n",
        "b=pd.read_csv('/content/drive/MyDrive/python/ch4-2.csv')\n",
        "b.head()"
      ],
      "metadata": {
        "id": "irjR74Dj-BON"
      },
      "execution_count": null,
      "outputs": []
    },
    {
      "cell_type": "code",
      "source": [
        "b.info()"
      ],
      "metadata": {
        "id": "IV7HmDVq-Tw9"
      },
      "execution_count": null,
      "outputs": []
    },
    {
      "cell_type": "code",
      "source": [
        "b.describe() #R에서 summary같은 함수"
      ],
      "metadata": {
        "id": "wizcBOQs-fTd"
      },
      "execution_count": null,
      "outputs": []
    },
    {
      "cell_type": "code",
      "source": [
        "import matplotlib.pyplot as plt"
      ],
      "metadata": {
        "id": "vB-2ZmmjASni"
      },
      "execution_count": null,
      "outputs": []
    },
    {
      "cell_type": "code",
      "source": [
        "plt.figure(figsize=(10,7))\n",
        "plt.hist(b.weight,bins=7)\n",
        "plt.title('B 부화장 병아리 무게 분포 현황',fontsize=17)\n",
        "plt.xlabel('병아리 무게(g)')\n",
        "plt.ylabel('마릿수')\n",
        "plt.show()"
      ],
      "metadata": {
        "id": "IwhJXzlIAb_R"
      },
      "execution_count": null,
      "outputs": []
    },
    {
      "cell_type": "code",
      "source": [
        "plt.figure(figsize=(10,7))\n",
        "plt.boxplot(b.weight)\n",
        "plt.title('B 부화장 병아리 무게 분포 현황',fontsize=17)\n",
        "plt.ylabel('병아리 무게(g)')\n",
        "plt.show()"
      ],
      "metadata": {
        "id": "sUCVAbBRAs24"
      },
      "execution_count": null,
      "outputs": []
    },
    {
      "cell_type": "code",
      "source": [
        "plt.figure(figsize=(10,7))\n",
        "plt.subplot(2,1,1)\n",
        "plt.hist(b.weight,bins=7)\n",
        "plt.title('B 부화장 병아리 무게 분포 현황',fontsize=17)\n",
        "plt.xlabel('병아리 무게(g)')\n",
        "plt.subplot(2,1,2)\n",
        "plt.boxplot(b.weight,vert=False)\n",
        "plt.xlabel('병아리 무게(g)')\n",
        "plt.show()"
      ],
      "metadata": {
        "id": "GvyKhSYyA-Fp"
      },
      "execution_count": null,
      "outputs": []
    },
    {
      "cell_type": "markdown",
      "source": [
        "chater 4-3"
      ],
      "metadata": {
        "id": "uvNw-dHaBeKi"
      }
    },
    {
      "cell_type": "code",
      "source": [
        "test=pd.read_csv('/content/drive/MyDrive/python/ch4-3.csv')\n",
        "test.head()"
      ],
      "metadata": {
        "id": "GWwOKS83BQyR"
      },
      "execution_count": null,
      "outputs": []
    },
    {
      "cell_type": "code",
      "source": [
        "test.info()"
      ],
      "metadata": {
        "id": "mfLvzUWgBkL3"
      },
      "execution_count": null,
      "outputs": []
    },
    {
      "cell_type": "code",
      "source": [
        "import seaborn as sns\n",
        "plt.figure(figsize=(10,7))\n",
        "sns.boxplot(x='weight',y='hatchery',data=test)\n",
        "plt.title('부화장 A vs. 부화장 B 몸무게 분포 비교',fontsize=17)\n",
        "plt.show()"
      ],
      "metadata": {
        "id": "GuMcknDNBlYo"
      },
      "execution_count": null,
      "outputs": []
    },
    {
      "cell_type": "code",
      "source": [
        "import scipy as sp"
      ],
      "metadata": {
        "id": "iwvPboAmB0mi"
      },
      "execution_count": null,
      "outputs": []
    },
    {
      "cell_type": "code",
      "source": [
        "test_a=test.loc[test.hatchery=='A','weight']\n",
        "test_b=test.loc[test.hatchery=='B','weight']"
      ],
      "metadata": {
        "id": "lAtUDLl2B6q-"
      },
      "execution_count": null,
      "outputs": []
    },
    {
      "cell_type": "code",
      "source": [
        "sp.stats.shapiro(test_a)"
      ],
      "metadata": {
        "id": "NYbXxtG6B99-"
      },
      "execution_count": null,
      "outputs": []
    },
    {
      "cell_type": "code",
      "source": [
        "sp.stats.shapiro(test_b)"
      ],
      "metadata": {
        "id": "vi1ehucZCEIG"
      },
      "execution_count": null,
      "outputs": []
    },
    {
      "cell_type": "code",
      "source": [
        "sp.stats.ttest_ind(test_a,test_b)"
      ],
      "metadata": {
        "id": "BTKjqJ5xCGEl"
      },
      "execution_count": null,
      "outputs": []
    },
    {
      "cell_type": "markdown",
      "source": [
        "###chater4 연습문제"
      ],
      "metadata": {
        "id": "4tNHiYBNDo1y"
      }
    },
    {
      "cell_type": "code",
      "source": [
        "iris"
      ],
      "metadata": {
        "id": "RhsrhwvNCQhm"
      },
      "execution_count": null,
      "outputs": []
    },
    {
      "cell_type": "code",
      "source": [
        "iris.info()"
      ],
      "metadata": {
        "id": "prPWEhXsCZcV"
      },
      "execution_count": null,
      "outputs": []
    },
    {
      "cell_type": "code",
      "source": [
        "iris.head(10)"
      ],
      "metadata": {
        "id": "Q8kYE2UbCdS2"
      },
      "execution_count": null,
      "outputs": []
    },
    {
      "cell_type": "code",
      "source": [
        "iris['sepal_width'].describe()"
      ],
      "metadata": {
        "id": "SMWto3kaCoxV"
      },
      "execution_count": null,
      "outputs": []
    },
    {
      "cell_type": "code",
      "source": [
        "plt.figure(figsize=(10,7))\n",
        "plt.hist(iris['sepal_width'])\n",
        "plt.title('Sepal_width histogram')\n",
        "plt.show()"
      ],
      "metadata": {
        "id": "az8uOkCyCu69"
      },
      "execution_count": null,
      "outputs": []
    },
    {
      "cell_type": "code",
      "source": [
        "plt.figure(figsize=(10,7))\n",
        "sns.boxplot(x=iris['sepal_width'],y=iris['species'])\n",
        "plt.show()"
      ],
      "metadata": {
        "id": "FhufRdTjDCOq"
      },
      "execution_count": null,
      "outputs": []
    },
    {
      "cell_type": "code",
      "source": [
        "s=iris.loc[iris.species=='setosa','sepal_width']\n",
        "v=iris.loc[iris.species=='versicolor','sepal_width']"
      ],
      "metadata": {
        "id": "u3zftVDUDUb5"
      },
      "execution_count": null,
      "outputs": []
    },
    {
      "cell_type": "code",
      "source": [
        "sp.stats.shapiro(s)"
      ],
      "metadata": {
        "id": "Hyk92uyuD2Vj"
      },
      "execution_count": null,
      "outputs": []
    },
    {
      "cell_type": "code",
      "source": [
        "sp.stats.shapiro(v)"
      ],
      "metadata": {
        "id": "CAh1YmfWEYS2"
      },
      "execution_count": null,
      "outputs": []
    },
    {
      "cell_type": "code",
      "source": [
        "sp.stats.ttest_ind(s,v)"
      ],
      "metadata": {
        "id": "SUeS00rdEgXN"
      },
      "execution_count": null,
      "outputs": []
    },
    {
      "cell_type": "markdown",
      "source": [
        "#Chater 5"
      ],
      "metadata": {
        "id": "iHsD9WemE4_q"
      }
    },
    {
      "cell_type": "code",
      "source": [
        "import pandas as pd\n",
        "w=pd.read_csv('/content/drive/MyDrive/python/ch5-1.csv')\n",
        "w.head()"
      ],
      "metadata": {
        "id": "-CpozkUFEj0t"
      },
      "execution_count": null,
      "outputs": []
    },
    {
      "cell_type": "code",
      "source": [
        "print(w.info())\n",
        "print(w.head())"
      ],
      "metadata": {
        "id": "4gt5QGplFBrA"
      },
      "execution_count": null,
      "outputs": []
    },
    {
      "cell_type": "code",
      "source": [
        "w_n=w.iloc[:,1:5]\n",
        "w_n.head()"
      ],
      "metadata": {
        "id": "LShfyyl0FC7w"
      },
      "execution_count": null,
      "outputs": []
    },
    {
      "cell_type": "code",
      "source": [
        "w_cor=w_n.corr()\n",
        "w_cor"
      ],
      "metadata": {
        "id": "P3_hWv6QFNAQ"
      },
      "execution_count": null,
      "outputs": []
    },
    {
      "cell_type": "code",
      "source": [
        "import matplotlib.pyplot as plt\n",
        "import seaborn as sns"
      ],
      "metadata": {
        "id": "UfcDkkVJFavX"
      },
      "execution_count": null,
      "outputs": []
    },
    {
      "cell_type": "code",
      "source": [
        "sns.pairplot(w_n)"
      ],
      "metadata": {
        "id": "54m--tw0FsAy"
      },
      "execution_count": null,
      "outputs": []
    },
    {
      "cell_type": "code",
      "source": [
        "sns.heatmap(w_cor)"
      ],
      "metadata": {
        "id": "BmRlSnv3Fuh_"
      },
      "execution_count": null,
      "outputs": []
    },
    {
      "cell_type": "code",
      "source": [
        "import statsmodels.formula.api as smf"
      ],
      "metadata": {
        "id": "8lZA6t85GzD1"
      },
      "execution_count": null,
      "outputs": []
    },
    {
      "cell_type": "code",
      "source": [
        "model_lm=smf.ols(formula='weight~egg_weight',data=w_n)\n",
        "model_lm"
      ],
      "metadata": {
        "id": "TiYc2_e-G8iF"
      },
      "execution_count": null,
      "outputs": []
    },
    {
      "cell_type": "code",
      "source": [
        "result_lm=model_lm.fit()"
      ],
      "metadata": {
        "id": "oIsJmZtMG9WU"
      },
      "execution_count": null,
      "outputs": []
    },
    {
      "cell_type": "code",
      "source": [
        "result_lm.summary()"
      ],
      "metadata": {
        "id": "f4ial7XIHGGN"
      },
      "execution_count": null,
      "outputs": []
    },
    {
      "cell_type": "code",
      "source": [
        "print(result_lm.summary())"
      ],
      "metadata": {
        "id": "bi8RrkLhHHbU"
      },
      "execution_count": null,
      "outputs": []
    },
    {
      "cell_type": "code",
      "source": [
        "plt.scatter(w.egg_weight,w.weight,alpha=.5)\n",
        "plt.plot(w.egg_weight,w.egg_weight*2.3371-14.5475,color='red')"
      ],
      "metadata": {
        "id": "mYn1M-8HHJO9"
      },
      "execution_count": null,
      "outputs": []
    },
    {
      "cell_type": "code",
      "source": [
        "result_lm.resid"
      ],
      "metadata": {
        "id": "muC0qRFsHcZU"
      },
      "execution_count": null,
      "outputs": []
    },
    {
      "cell_type": "code",
      "source": [
        "plt.hist(result_lm.resid,bins=7)"
      ],
      "metadata": {
        "id": "IXM4SGgQHoTr"
      },
      "execution_count": null,
      "outputs": []
    },
    {
      "cell_type": "code",
      "source": [
        "model_mlm=smf.ols(formula='weight~egg_weight+food+movement',data=w_n)"
      ],
      "metadata": {
        "id": "FX6zXjkBIIJL"
      },
      "execution_count": null,
      "outputs": []
    },
    {
      "cell_type": "code",
      "source": [
        "result_mlm=model_mlm.fit()"
      ],
      "metadata": {
        "id": "hxJoUMAGIa_b"
      },
      "execution_count": null,
      "outputs": []
    },
    {
      "cell_type": "code",
      "source": [
        "result_mlm.summary()"
      ],
      "metadata": {
        "id": "LIdIOBWdIhRS"
      },
      "execution_count": null,
      "outputs": []
    },
    {
      "cell_type": "code",
      "source": [
        "model_mlm2=smf.ols(formula='weight~egg_weight+food',data=w_n)\n",
        "result_mlm2=model_mlm2.fit()\n",
        "result_mlm2.summary()"
      ],
      "metadata": {
        "id": "IjgxjARVIipy"
      },
      "execution_count": null,
      "outputs": []
    },
    {
      "cell_type": "code",
      "source": [
        "from statsmodels.stats.outliers_influence import variance_inflation_factor"
      ],
      "metadata": {
        "id": "WYLp_r9NIwsZ"
      },
      "execution_count": null,
      "outputs": []
    },
    {
      "cell_type": "code",
      "source": [
        "model_mlm2.exog_names"
      ],
      "metadata": {
        "id": "SklPkPGMI4Px"
      },
      "execution_count": null,
      "outputs": []
    },
    {
      "cell_type": "code",
      "source": [
        "vif1=variance_inflation_factor(model_mlm2.exog,1)"
      ],
      "metadata": {
        "id": "IBw2_u6CI-W6"
      },
      "execution_count": null,
      "outputs": []
    },
    {
      "cell_type": "code",
      "source": [
        "vif2=variance_inflation_factor(model_mlm2.exog,2)"
      ],
      "metadata": {
        "id": "hOCzEfgtJDLP"
      },
      "execution_count": null,
      "outputs": []
    },
    {
      "cell_type": "code",
      "source": [
        "print(vif1,vif2)"
      ],
      "metadata": {
        "id": "2NjpkHcDJGAR"
      },
      "execution_count": null,
      "outputs": []
    },
    {
      "cell_type": "code",
      "source": [
        "plt.hist(result_mlm2.resid,bins=7)"
      ],
      "metadata": {
        "id": "8USYeoHTJHYS"
      },
      "execution_count": null,
      "outputs": []
    },
    {
      "cell_type": "code",
      "source": [
        "w2=pd.read_csv('/content/drive/MyDrive/python/ch5-2.csv')\n",
        "w2.head()"
      ],
      "metadata": {
        "id": "L0XUMbMvJLjZ"
      },
      "execution_count": null,
      "outputs": []
    },
    {
      "cell_type": "code",
      "source": [
        "w2.info()"
      ],
      "metadata": {
        "id": "RjiRsseKJdDh"
      },
      "execution_count": null,
      "outputs": []
    },
    {
      "cell_type": "code",
      "source": [
        "plt.scatter(w2.day,w2.weight)"
      ],
      "metadata": {
        "id": "9bZ_XbbmJeFQ"
      },
      "execution_count": null,
      "outputs": []
    },
    {
      "cell_type": "code",
      "source": [
        "model_lm2=smf.ols(formula='weight~day',data=w2)\n",
        "result_lm2=model_lm2.fit()\n",
        "result_lm2.summary()"
      ],
      "metadata": {
        "id": "pUvFitgEJjJ4"
      },
      "execution_count": null,
      "outputs": []
    },
    {
      "cell_type": "code",
      "source": [
        "sum(result_lm2.resid**2)"
      ],
      "metadata": {
        "id": "1xVPF7hwJuko"
      },
      "execution_count": null,
      "outputs": []
    },
    {
      "cell_type": "code",
      "source": [
        "model_nlm=smf.ols(formula='weight~I(day**3)+I(day**2)+day',data=w2)\n",
        "result_nlm=model_nlm.fit()\n",
        "result_nlm.summary()"
      ],
      "metadata": {
        "id": "P6gUa7zVJzuf"
      },
      "execution_count": null,
      "outputs": []
    },
    {
      "cell_type": "code",
      "source": [
        "sum(result_nlm.resid**2)"
      ],
      "metadata": {
        "id": "AoSJE0GgKJX_"
      },
      "execution_count": null,
      "outputs": []
    },
    {
      "cell_type": "markdown",
      "source": [
        "###chater5 연습문제"
      ],
      "metadata": {
        "id": "_pqnDE38Kemr"
      }
    },
    {
      "cell_type": "code",
      "source": [
        "iris"
      ],
      "metadata": {
        "id": "EIe2c5JxKMSW"
      },
      "execution_count": null,
      "outputs": []
    },
    {
      "cell_type": "code",
      "source": [
        "test=iris.loc[iris.species=='virginica',:].iloc[:,0:4]\n",
        "test.info()"
      ],
      "metadata": {
        "id": "cVrUOmNsKdOv"
      },
      "execution_count": null,
      "outputs": []
    },
    {
      "cell_type": "code",
      "source": [
        "test.corr()"
      ],
      "metadata": {
        "id": "KETP_aFAKnge"
      },
      "execution_count": null,
      "outputs": []
    },
    {
      "cell_type": "code",
      "source": [
        "model_test=smf.ols(formula='sepal_length~petal_length',data=test)\n",
        "result_test=model_test.fit()\n",
        "result_test.summary()"
      ],
      "metadata": {
        "id": "yDE5pj21MFu7"
      },
      "execution_count": null,
      "outputs": []
    },
    {
      "cell_type": "code",
      "source": [
        "model_test2=smf.ols(formula='sepal_length~sepal_width+petal_length+petal_width',data=test)\n",
        "result_test2=model_test2.fit()\n",
        "result_test2.summary()"
      ],
      "metadata": {
        "id": "ohaJazI_MgPr"
      },
      "execution_count": null,
      "outputs": []
    },
    {
      "cell_type": "code",
      "source": [
        "model_test2.exog_names"
      ],
      "metadata": {
        "id": "TE-Mg83yNBaT"
      },
      "execution_count": null,
      "outputs": []
    },
    {
      "cell_type": "code",
      "source": [
        "vif1=variance_inflation_factor(model_test2.exog,1)\n",
        "vif2=variance_inflation_factor(model_test2.exog,2)\n",
        "vif3=variance_inflation_factor(model_test2.exog,3)"
      ],
      "metadata": {
        "id": "3a645B9QMxXb"
      },
      "execution_count": null,
      "outputs": []
    },
    {
      "cell_type": "code",
      "source": [
        "print(vif1,vif2,vif3)"
      ],
      "metadata": {
        "id": "0wNO1tHiNPbh"
      },
      "execution_count": null,
      "outputs": []
    },
    {
      "cell_type": "markdown",
      "source": [
        "#Chapter6"
      ],
      "metadata": {
        "id": "b2oCn90cNoek"
      }
    },
    {
      "cell_type": "code",
      "source": [
        "import pandas as pd\n",
        "g=pd.read_csv('/content/drive/MyDrive/python/ch6-1.csv')\n",
        "g.head()"
      ],
      "metadata": {
        "id": "vVmvUTgxNWmh"
      },
      "execution_count": null,
      "outputs": []
    },
    {
      "cell_type": "code",
      "source": [
        "g['gender']=g['gender'].map({'m':1,'f':0})"
      ],
      "metadata": {
        "id": "czC35XHbNxux"
      },
      "execution_count": null,
      "outputs": []
    },
    {
      "cell_type": "code",
      "source": [
        "g['gender']"
      ],
      "metadata": {
        "id": "USEjPx-QN0gR"
      },
      "execution_count": null,
      "outputs": []
    },
    {
      "cell_type": "code",
      "source": [
        "import statsmodels.api as sm"
      ],
      "metadata": {
        "id": "P3Ll4p7gN7XQ"
      },
      "execution_count": null,
      "outputs": []
    },
    {
      "cell_type": "code",
      "source": [
        "model_glm=sm.Logit.from_formula('gender~wing_length+tail_length',data=g).fit()\n",
        "model_glm.summary()"
      ],
      "metadata": {
        "id": "MNWN-26LN_tA"
      },
      "execution_count": null,
      "outputs": []
    },
    {
      "cell_type": "code",
      "source": [
        "y_prob=model_glm.predict(g.iloc[:,0:2])\n",
        "y_prob.head()"
      ],
      "metadata": {
        "id": "59dlaFMIOKY4"
      },
      "execution_count": null,
      "outputs": []
    },
    {
      "cell_type": "code",
      "source": [
        "y_pred=list(map(round,y_prob))\n",
        "y_pred"
      ],
      "metadata": {
        "id": "2xA-MIbLOTcw"
      },
      "execution_count": null,
      "outputs": []
    },
    {
      "cell_type": "code",
      "source": [
        "y=g['gender']"
      ],
      "metadata": {
        "id": "AH_isuEnOVOg"
      },
      "execution_count": null,
      "outputs": []
    },
    {
      "cell_type": "code",
      "source": [
        "from sklearn.metrics import confusion_matrix"
      ],
      "metadata": {
        "id": "42YL2MBYOmmn"
      },
      "execution_count": null,
      "outputs": []
    },
    {
      "cell_type": "code",
      "source": [
        "confusion_matrix(y,y_pred,labels=[1,0])"
      ],
      "metadata": {
        "id": "Cx6MbEiLOppp"
      },
      "execution_count": null,
      "outputs": []
    },
    {
      "cell_type": "code",
      "source": [
        " from sklearn.metrics import classification_report\n",
        " print(classification_report(y,y_pred))"
      ],
      "metadata": {
        "id": "PGSF0_ZqOtXP"
      },
      "execution_count": null,
      "outputs": []
    },
    {
      "cell_type": "code",
      "source": [
        "from sklearn.metrics import roc_curve"
      ],
      "metadata": {
        "id": "ahHLlsTjdIhU"
      },
      "execution_count": null,
      "outputs": []
    },
    {
      "cell_type": "code",
      "source": [
        "fpr,tpr,thresholds=roc_curve(y,y_prob)"
      ],
      "metadata": {
        "id": "G6XA1kLzdPgM"
      },
      "execution_count": null,
      "outputs": []
    },
    {
      "cell_type": "code",
      "source": [
        "import matplotlib.pyplot as plt\n",
        "plt.plot(fpr,tpr)\n",
        "plt.show()"
      ],
      "metadata": {
        "id": "-VP9Q6nqdWSk"
      },
      "execution_count": null,
      "outputs": []
    },
    {
      "cell_type": "code",
      "source": [
        "from sklearn.metrics import auc\n",
        "auc(fpr,tpr)"
      ],
      "metadata": {
        "id": "_YynBf03dh08"
      },
      "execution_count": null,
      "outputs": []
    },
    {
      "cell_type": "code",
      "source": [
        "df_train=pd.read_csv('/content/drive/MyDrive/python/ch6-2_train.csv')\n",
        "df_test=pd.read_csv('/content/drive/MyDrive/python/ch6-2_test.csv')\n",
        "df_train.info()"
      ],
      "metadata": {
        "id": "TkekJvfOdreD"
      },
      "execution_count": null,
      "outputs": []
    },
    {
      "cell_type": "code",
      "source": [
        "df_test.info()"
      ],
      "metadata": {
        "id": "eYZbbaE2eL1y"
      },
      "execution_count": null,
      "outputs": []
    },
    {
      "cell_type": "code",
      "source": [
        "df_train.head()"
      ],
      "metadata": {
        "id": "p5WrL67JeNYC"
      },
      "execution_count": null,
      "outputs": []
    },
    {
      "cell_type": "code",
      "source": [
        "x_train=df_train.iloc[:,0:3].values\n",
        "y_train=df_train.iloc[:,3].values\n",
        "x_test=df_test.iloc[:,0:3].values\n",
        "y_test=df_test.iloc[:,3].values"
      ],
      "metadata": {
        "id": "Xj9zYgLyeSMi"
      },
      "execution_count": null,
      "outputs": []
    },
    {
      "cell_type": "code",
      "source": [
        "from sklearn.naive_bayes import GaussianNB"
      ],
      "metadata": {
        "id": "m5rCPa6ZeZwK"
      },
      "execution_count": null,
      "outputs": []
    },
    {
      "cell_type": "code",
      "source": [
        "model_nb=GaussianNB().fit(x_train,y_train)"
      ],
      "metadata": {
        "id": "EZNzJa-bea15"
      },
      "execution_count": null,
      "outputs": []
    },
    {
      "cell_type": "code",
      "source": [
        "y_pred_nb=model_nb.predict(x_test)\n",
        "y_pred_nb"
      ],
      "metadata": {
        "id": "C8itdoYlevQR"
      },
      "execution_count": null,
      "outputs": []
    },
    {
      "cell_type": "code",
      "source": [
        "y_test"
      ],
      "metadata": {
        "id": "ZZ1MTsnmewz6"
      },
      "execution_count": null,
      "outputs": []
    },
    {
      "cell_type": "code",
      "source": [
        "confusion_matrix(y_test,y_pred_nb)"
      ],
      "metadata": {
        "id": "aFtSJMo8e59L"
      },
      "execution_count": null,
      "outputs": []
    },
    {
      "cell_type": "code",
      "source": [
        "print(classification_report(y_test,y_pred_nb))"
      ],
      "metadata": {
        "id": "Y_5QqnRifBmx"
      },
      "execution_count": null,
      "outputs": []
    },
    {
      "cell_type": "code",
      "source": [
        "from sklearn.neighbors import KNeighborsClassifier"
      ],
      "metadata": {
        "id": "qob9i4GUfHIg"
      },
      "execution_count": null,
      "outputs": []
    },
    {
      "cell_type": "code",
      "source": [
        "model_knn=KNeighborsClassifier(n_neighbors=3).fit(x_train,y_train)"
      ],
      "metadata": {
        "id": "wU_7YWtXfXFB"
      },
      "execution_count": null,
      "outputs": []
    },
    {
      "cell_type": "code",
      "source": [
        "y_pred_knn=model_knn.predict(x_test)"
      ],
      "metadata": {
        "id": "6eHTbgo_fvnH"
      },
      "execution_count": null,
      "outputs": []
    },
    {
      "cell_type": "code",
      "source": [
        "confusion_matrix(y_test,y_pred_knn)"
      ],
      "metadata": {
        "id": "dDp9FVlcfz4_"
      },
      "execution_count": null,
      "outputs": []
    },
    {
      "cell_type": "code",
      "source": [
        "print(classification_report(y_test,y_pred_knn))"
      ],
      "metadata": {
        "id": "8qA68kNAf3Fv"
      },
      "execution_count": null,
      "outputs": []
    },
    {
      "cell_type": "code",
      "source": [
        "model_knn5=KNeighborsClassifier(n_neighbors=5).fit(x_train,y_train)\n",
        "y_pred_knn5=model_knn5.predict(x_test)\n",
        "confusion_matrix(y_test,y_pred_knn5)"
      ],
      "metadata": {
        "id": "YMc-0KNLf7Gf"
      },
      "execution_count": null,
      "outputs": []
    },
    {
      "cell_type": "code",
      "source": [
        "print(classification_report(y_test,y_pred_knn5))"
      ],
      "metadata": {
        "id": "-1KOlf44gFlO"
      },
      "execution_count": null,
      "outputs": []
    },
    {
      "cell_type": "code",
      "source": [
        "from sklearn.tree import DecisionTreeClassifier, plot_tree"
      ],
      "metadata": {
        "id": "f2GMqB09gIfe"
      },
      "execution_count": null,
      "outputs": []
    },
    {
      "cell_type": "code",
      "source": [
        "model_tree=DecisionTreeClassifier().fit(x_train,y_train)\n",
        "y_pred_tree=model_tree.predict(x_test)\n",
        "confusion_matrix(y_test,y_pred_tree)"
      ],
      "metadata": {
        "id": "HrCtS0zIgW0m"
      },
      "execution_count": null,
      "outputs": []
    },
    {
      "cell_type": "code",
      "source": [
        "print(classification_report(y_test,y_pred_tree))"
      ],
      "metadata": {
        "id": "crGR1DlvgbCm"
      },
      "execution_count": null,
      "outputs": []
    },
    {
      "cell_type": "code",
      "source": [
        "model_tree2=DecisionTreeClassifier(criterion='entropy').fit(x_train,y_train)\n",
        "y_pred_tree2=model_tree2.predict(x_test)\n",
        "confusion_matrix(y_test,y_pred_tree2)"
      ],
      "metadata": {
        "id": "bJeRJRWXgnO-"
      },
      "execution_count": null,
      "outputs": []
    },
    {
      "cell_type": "code",
      "source": [
        "print(classification_report(y_test,y_pred_tree2))"
      ],
      "metadata": {
        "id": "Lqd60gpwg3jO"
      },
      "execution_count": null,
      "outputs": []
    },
    {
      "cell_type": "code",
      "source": [
        "plot_tree(model_tree2,feature_names=['wing_length','tail_length','comb_height'],filled=True)"
      ],
      "metadata": {
        "id": "aviGuNd7hA4l"
      },
      "execution_count": null,
      "outputs": []
    },
    {
      "cell_type": "code",
      "source": [
        "model_tree3=DecisionTreeClassifier(criterion='entropy',max_depth=3).fit(x_train,y_train)\n",
        "y_pred_tree3=model_tree3.predict(x_test)\n",
        "confusion_matrix(y_test,y_pred_tree3)"
      ],
      "metadata": {
        "id": "PN4GTp8XhH29"
      },
      "execution_count": null,
      "outputs": []
    },
    {
      "cell_type": "code",
      "source": [
        "print(classification_report(y_test,y_pred_tree3))"
      ],
      "metadata": {
        "id": "5rIKXjP6jbH1"
      },
      "execution_count": null,
      "outputs": []
    },
    {
      "cell_type": "code",
      "source": [
        "plot_tree(model_tree3,feature_names=['wing_length','tail_length','comb_height'])"
      ],
      "metadata": {
        "id": "pF7lffdOjfzh"
      },
      "execution_count": null,
      "outputs": []
    },
    {
      "cell_type": "code",
      "source": [
        "from sklearn.ensemble import BaggingClassifier"
      ],
      "metadata": {
        "id": "J_MXM5Csjk3Q"
      },
      "execution_count": null,
      "outputs": []
    },
    {
      "cell_type": "code",
      "source": [
        "model_bag=BaggingClassifier().fit(x_train,y_train)\n",
        "y_pred_bag=model_bag.predict(x_test)\n",
        "confusion_matrix(y_test,y_pred_bag)"
      ],
      "metadata": {
        "id": "QnXyNVZNj0ho"
      },
      "execution_count": null,
      "outputs": []
    },
    {
      "cell_type": "code",
      "source": [
        "print(classification_report(y_test,y_pred_bag))"
      ],
      "metadata": {
        "id": "uWOcp43Uj-t3"
      },
      "execution_count": null,
      "outputs": []
    },
    {
      "cell_type": "code",
      "source": [
        "from sklearn.ensemble import AdaBoostClassifier"
      ],
      "metadata": {
        "id": "5hHN8rYakE3n"
      },
      "execution_count": null,
      "outputs": []
    },
    {
      "cell_type": "code",
      "source": [
        "model_adb=AdaBoostClassifier().fit(x_train,y_train)\n",
        "y_pred_adb=model_adb.predict(x_test)\n",
        "confusion_matrix(y_test,y_pred_adb)"
      ],
      "metadata": {
        "id": "HuFhRBvWkP58"
      },
      "execution_count": null,
      "outputs": []
    },
    {
      "cell_type": "code",
      "source": [
        "print(classification_report(y_test,y_pred_adb))"
      ],
      "metadata": {
        "id": "GW7F7-t_kUkn"
      },
      "execution_count": null,
      "outputs": []
    },
    {
      "cell_type": "code",
      "source": [
        "from sklearn.ensemble import GradientBoostingClassifier"
      ],
      "metadata": {
        "id": "4YlcK2XPkgoe"
      },
      "execution_count": null,
      "outputs": []
    },
    {
      "cell_type": "code",
      "source": [
        "model_gb=GradientBoostingClassifier().fit(x_train,y_train)\n",
        "y_pred_gb=model_gb.predict(x_test)\n",
        "confusion_matrix(y_test,y_pred_gb)"
      ],
      "metadata": {
        "id": "0d3C3zOKknxW"
      },
      "execution_count": null,
      "outputs": []
    },
    {
      "cell_type": "code",
      "source": [
        "print(classification_report(y_test,y_pred_gb))"
      ],
      "metadata": {
        "id": "4R4MWNhikx7X"
      },
      "execution_count": null,
      "outputs": []
    },
    {
      "cell_type": "code",
      "source": [
        "from sklearn.ensemble import RandomForestClassifier"
      ],
      "metadata": {
        "id": "_UBs-QCMk02Y"
      },
      "execution_count": null,
      "outputs": []
    },
    {
      "cell_type": "code",
      "source": [
        "model_rf=RandomForestClassifier().fit(x_train,y_train)\n",
        "y_pred_rf=model_rf.predict(x_test)\n",
        "confusion_matrix(y_test,y_pred_rf)"
      ],
      "metadata": {
        "id": "IVQytzpglNrl"
      },
      "execution_count": null,
      "outputs": []
    },
    {
      "cell_type": "code",
      "source": [
        "print(classification_report(y_test,y_pred_rf))"
      ],
      "metadata": {
        "id": "QGAV_fHMlXsL"
      },
      "execution_count": null,
      "outputs": []
    },
    {
      "cell_type": "code",
      "source": [
        "from sklearn.svm import SVC"
      ],
      "metadata": {
        "id": "9aE5DdHLlclz"
      },
      "execution_count": null,
      "outputs": []
    },
    {
      "cell_type": "code",
      "source": [
        "model_svm=SVC(kernel='linear').fit(x_train,y_train)\n",
        "y_pred_svm=model_svm.predict(x_test)\n",
        "confusion_matrix(y_test,y_pred_svm)"
      ],
      "metadata": {
        "id": "iZEhopv1lp29"
      },
      "execution_count": null,
      "outputs": []
    },
    {
      "cell_type": "code",
      "source": [
        "print(classification_report(y_test,y_pred_svm))"
      ],
      "metadata": {
        "id": "ncMmKcPZl2-m"
      },
      "execution_count": null,
      "outputs": []
    },
    {
      "cell_type": "code",
      "source": [
        "df_y_pred_svm=pd.DataFrame(y_pred_svm,columns=['breeds_pred'])"
      ],
      "metadata": {
        "id": "t1KFhm73l6Du"
      },
      "execution_count": null,
      "outputs": []
    },
    {
      "cell_type": "code",
      "source": [
        "df_svm=pd.concat([df_test,df_y_pred_svm],axis=1)\n",
        "df_svm.head()"
      ],
      "metadata": {
        "id": "09pLf3dxmGS0"
      },
      "execution_count": null,
      "outputs": []
    },
    {
      "cell_type": "code",
      "source": [
        "plt.subplot(1,2,1)\n",
        "sns.scatterplot(data=df_svm,x='tail_length',y='wing_length',hue='breeds',style='breeds')\n",
        "plt.subplot(1,2,2)\n",
        "sns.scatterplot(data=df_svm,x='tail_length',y='wing_length',hue='breeds_pred',style='breeds_pred')\n",
        "plt.show()"
      ],
      "metadata": {
        "id": "brSyEUttmMLM"
      },
      "execution_count": null,
      "outputs": []
    },
    {
      "cell_type": "code",
      "source": [
        "!pip install xgboost"
      ],
      "metadata": {
        "id": "cTANZcm7mOjz"
      },
      "execution_count": null,
      "outputs": []
    },
    {
      "cell_type": "code",
      "source": [
        "from xgboost import XGBClassifier"
      ],
      "metadata": {
        "id": "0l4p3hfVmqBF"
      },
      "execution_count": null,
      "outputs": []
    },
    {
      "cell_type": "code",
      "source": [
        "from xgboost import XGBClassifier\n",
        "model_xgb=XGBClassifier().fit(x_train,y_train)\n",
        "y_pred_xgb=model_xgb.predict(x_test)\n",
        "confusion_matrix(y_test,y_pred_xgb)"
      ],
      "metadata": {
        "id": "lLzF39TtmwzS"
      },
      "execution_count": null,
      "outputs": []
    },
    {
      "cell_type": "code",
      "source": [
        "from sklearn.model_selection import GridSearchCV"
      ],
      "metadata": {
        "id": "0ws_DTrqm6SC"
      },
      "execution_count": null,
      "outputs": []
    },
    {
      "cell_type": "code",
      "source": [
        "xgb_param_grid={'eta':[0.05,0.1,0.3,0.5],\n",
        "                'gamma':[0,0.5,1,2],\n",
        "                'max_depth':[2,4,8,12]}"
      ],
      "metadata": {
        "id": "X3KsASNKnRni"
      },
      "execution_count": null,
      "outputs": []
    },
    {
      "cell_type": "code",
      "source": [
        "xgb_grid=GridSearchCV(XGBClassifier(),param_grid=xgb_param_grid,n_jobs=-1,scoring='accuracy')"
      ],
      "metadata": {
        "id": "yXzlSoX1oJOn"
      },
      "execution_count": null,
      "outputs": []
    },
    {
      "cell_type": "code",
      "source": [
        "xgb_grid.fit(x_train,y_train)"
      ],
      "metadata": {
        "id": "cy4F6MyZoVvA"
      },
      "execution_count": null,
      "outputs": []
    },
    {
      "cell_type": "markdown",
      "source": [
        "###chater6-3"
      ],
      "metadata": {
        "id": "cfNn5bhoosc6"
      }
    },
    {
      "cell_type": "code",
      "source": [
        "cl=pd.read_csv('/content/drive/MyDrive/python/ch6-3.csv')"
      ],
      "metadata": {
        "id": "SobsMsaUoXy4"
      },
      "execution_count": null,
      "outputs": []
    },
    {
      "cell_type": "code",
      "source": [
        "cl.info()"
      ],
      "metadata": {
        "id": "2jb_CHqBo0o3"
      },
      "execution_count": null,
      "outputs": []
    },
    {
      "cell_type": "code",
      "source": [
        "cl.head()"
      ],
      "metadata": {
        "id": "kh-haGc6o2Af"
      },
      "execution_count": null,
      "outputs": []
    },
    {
      "cell_type": "code",
      "source": [
        "cl.describe()"
      ],
      "metadata": {
        "id": "soF6VUO8o3LX"
      },
      "execution_count": null,
      "outputs": []
    },
    {
      "cell_type": "code",
      "source": [
        "plt.scatter(x=cl['food'],y=cl['weight'])"
      ],
      "metadata": {
        "id": "yCg1ajpFo5bX"
      },
      "execution_count": null,
      "outputs": []
    },
    {
      "cell_type": "code",
      "source": [
        "from sklearn.cluster import KMeans"
      ],
      "metadata": {
        "id": "acI0cwItpC5D"
      },
      "execution_count": null,
      "outputs": []
    },
    {
      "cell_type": "code",
      "source": [
        "cl_n=cl.iloc[:,1:3].values"
      ],
      "metadata": {
        "id": "A47vOVOKpG1-"
      },
      "execution_count": null,
      "outputs": []
    },
    {
      "cell_type": "code",
      "source": [
        "cl_kmc=KMeans(n_clusters=3).fit(cl_n)"
      ],
      "metadata": {
        "id": "WMWl-67ipVj9"
      },
      "execution_count": null,
      "outputs": []
    },
    {
      "cell_type": "code",
      "source": [
        "cl_kmc.labels_"
      ],
      "metadata": {
        "id": "UDIsJWgNpaad"
      },
      "execution_count": null,
      "outputs": []
    },
    {
      "cell_type": "code",
      "source": [
        "np.unique(cl_kmc.labels_,return_counts=True)"
      ],
      "metadata": {
        "id": "iy274KqOpeW3"
      },
      "execution_count": null,
      "outputs": []
    },
    {
      "cell_type": "code",
      "source": [
        "plt.scatter(x=cl['food'],y=cl['weight'],c=cl_kmc.labels_)\n",
        "plt.show()"
      ],
      "metadata": {
        "id": "wBUw4LBUppfN"
      },
      "execution_count": null,
      "outputs": []
    },
    {
      "cell_type": "markdown",
      "source": [
        "#chater6 연습문제"
      ],
      "metadata": {
        "id": "FJ7KRGKvp4Kk"
      }
    },
    {
      "cell_type": "code",
      "source": [
        "iris"
      ],
      "metadata": {
        "id": "yIqSPnisp0Rt"
      },
      "execution_count": null,
      "outputs": []
    },
    {
      "cell_type": "code",
      "source": [
        "iris_cl=iris.iloc[:,4]"
      ],
      "metadata": {
        "id": "NK1ehwcyp_r9"
      },
      "execution_count": null,
      "outputs": []
    },
    {
      "cell_type": "code",
      "source": [
        "iris_cl=pd.DataFrame(iris_cl)"
      ],
      "metadata": {
        "id": "2oyYPm6WqC1M"
      },
      "execution_count": null,
      "outputs": []
    },
    {
      "cell_type": "code",
      "source": [
        "iris_cl.columns=['act']"
      ],
      "metadata": {
        "id": "3L_7q0GoqGJ1"
      },
      "execution_count": null,
      "outputs": []
    },
    {
      "cell_type": "code",
      "source": [
        "from sklearn.naive_bayes import GaussianNB\n",
        "from sklearn.ensemble import AdaBoostClassifier\n",
        "from sklearn.ensemble import RandomForestClassifier\n",
        "from sklearn.svm import SVC"
      ],
      "metadata": {
        "id": "Hb1zwp50qsSr"
      },
      "execution_count": null,
      "outputs": []
    },
    {
      "cell_type": "code",
      "source": [
        "iris_train=iris"
      ],
      "metadata": {
        "id": "z3LagBwLqxYb"
      },
      "execution_count": null,
      "outputs": []
    },
    {
      "cell_type": "code",
      "source": [
        "iris_train.iloc[:,4]"
      ],
      "metadata": {
        "id": "wZnPcr-5sEw_"
      },
      "execution_count": null,
      "outputs": []
    },
    {
      "cell_type": "code",
      "source": [
        "iris_train.iloc[:,0:4]"
      ],
      "metadata": {
        "id": "QgWuvDf-sHCi"
      },
      "execution_count": null,
      "outputs": []
    },
    {
      "cell_type": "code",
      "source": [
        "ex_model_nb=GaussianNB().fit(iris_train.iloc[:,0:4],iris_train.iloc[:,4])\n",
        "ex_model_ada=AdaBoostClassifier().fit(iris_train.iloc[:,0:4],iris_train.iloc[:,4])\n",
        "ex_model_rf=RandomForestClassifier().fit(iris_train.iloc[:,0:4],iris_train.iloc[:,4])\n",
        "ex_model_svm=SVC().fit(iris_train.iloc[:,0:4],iris_train.iloc[:,4])"
      ],
      "metadata": {
        "id": "_QKerQwercTy"
      },
      "execution_count": null,
      "outputs": []
    },
    {
      "cell_type": "code",
      "source": [
        "iris_cl['pred_nb']=ex_model_nb.predict(iris_train.iloc[:,0:4])\n",
        "iris_cl['pred_ada']=ex_model_ada.predict(iris_train.iloc[:,0:4])\n",
        "iris_cl['pred_rf']=ex_model_rf.predict(iris_train.iloc[:,0:4])\n",
        "iris_cl['pred_svm']=ex_model_svm.predict(iris_train.iloc[:,0:4])"
      ],
      "metadata": {
        "id": "m_CH6Xuyrt3J"
      },
      "execution_count": null,
      "outputs": []
    },
    {
      "cell_type": "code",
      "source": [
        "iris_cl"
      ],
      "metadata": {
        "id": "mhcRXsM2s51A"
      },
      "execution_count": null,
      "outputs": []
    },
    {
      "cell_type": "code",
      "source": [
        "from sklearn.metrics import accuracy_score"
      ],
      "metadata": {
        "id": "4qsaqBEBsgY4"
      },
      "execution_count": null,
      "outputs": []
    },
    {
      "cell_type": "code",
      "source": [
        "print(accuracy_score(iris_cl.iloc[:,0],iris_cl.iloc[:,1]),accuracy_score(iris_cl.iloc[:,0],iris_cl.iloc[:,2]),accuracy_score(iris_cl.iloc[:,0],iris_cl.iloc[:,3]),accuracy_score(iris_cl.iloc[:,0],iris_cl.iloc[:,4]))"
      ],
      "metadata": {
        "id": "qheF97gGs2tK"
      },
      "execution_count": null,
      "outputs": []
    },
    {
      "cell_type": "markdown",
      "source": [
        "#Chapter 7"
      ],
      "metadata": {
        "id": "miY0sVvtuRxX"
      }
    },
    {
      "cell_type": "code",
      "source": [
        "w=pd.read_csv('/content/drive/MyDrive/python/ch7-1.csv')\n",
        "w.info()"
      ],
      "metadata": {
        "id": "GkkZL_eQs4UK"
      },
      "execution_count": null,
      "outputs": []
    },
    {
      "cell_type": "code",
      "source": [
        "w.head()"
      ],
      "metadata": {
        "id": "NeieFQTjuozs"
      },
      "execution_count": null,
      "outputs": []
    },
    {
      "cell_type": "code",
      "source": [
        "w_cor=w.corr()\n",
        "w_cor"
      ],
      "metadata": {
        "id": "YCpPH1Gguq9b"
      },
      "execution_count": null,
      "outputs": []
    },
    {
      "cell_type": "code",
      "source": [
        "sns.pairplot(w)"
      ],
      "metadata": {
        "id": "usFPwyeYuu6u"
      },
      "execution_count": null,
      "outputs": []
    },
    {
      "cell_type": "code",
      "source": [
        "x_data=w.iloc[:,0:2].values\n",
        "y_data=w.iloc[:,2].values"
      ],
      "metadata": {
        "id": "yY2A17m5uyhk"
      },
      "execution_count": null,
      "outputs": []
    },
    {
      "cell_type": "code",
      "source": [
        "from sklearn.model_selection import train_test_split"
      ],
      "metadata": {
        "id": "fm2IWHZyvAHU"
      },
      "execution_count": null,
      "outputs": []
    },
    {
      "cell_type": "code",
      "source": [
        "x_train,x_test,y_train,y_test=train_test_split(x_data,y_data,test_size=0.2)"
      ],
      "metadata": {
        "id": "7s1-e_U9vBcT"
      },
      "execution_count": null,
      "outputs": []
    },
    {
      "cell_type": "code",
      "source": [
        "pd.DataFrame(x_train)"
      ],
      "metadata": {
        "id": "5_r9sUCFvPWZ"
      },
      "execution_count": null,
      "outputs": []
    },
    {
      "cell_type": "code",
      "source": [
        "pd.DataFrame(x_test)"
      ],
      "metadata": {
        "id": "-xnfpUq-vSG5"
      },
      "execution_count": null,
      "outputs": []
    },
    {
      "cell_type": "code",
      "source": [
        "from sklearn.neural_network import MLPRegressor"
      ],
      "metadata": {
        "id": "L2J_f13hvhS6"
      },
      "execution_count": null,
      "outputs": []
    },
    {
      "cell_type": "code",
      "source": [
        "model_mlp=MLPRegressor().fit(x_train,y_train)\n",
        "model_mlp.get_params()"
      ],
      "metadata": {
        "id": "S58kYGSpvoba"
      },
      "execution_count": null,
      "outputs": []
    },
    {
      "cell_type": "code",
      "source": [
        "y_pred_mlp=model_mlp.predict(x_test)"
      ],
      "metadata": {
        "id": "dWVsbgAAvxnC"
      },
      "execution_count": null,
      "outputs": []
    },
    {
      "cell_type": "code",
      "source": [
        "y_pred_mlp"
      ],
      "metadata": {
        "id": "ivc0MG97v5bf"
      },
      "execution_count": null,
      "outputs": []
    },
    {
      "cell_type": "code",
      "source": [
        "from sklearn.metrics import mean_squared_error,mean_absolute_error,r2_score"
      ],
      "metadata": {
        "id": "zdL--Ycfv8In"
      },
      "execution_count": null,
      "outputs": []
    },
    {
      "cell_type": "code",
      "source": [
        "RMSE=mean_squared_error(y_test,y_pred_mlp,squared=False)\n",
        "MAE=mean_absolute_error(y_test,y_pred_mlp)\n",
        "RS=r2_score(y_test,y_pred_mlp)"
      ],
      "metadata": {
        "id": "Z0a-gyBTwC3X"
      },
      "execution_count": null,
      "outputs": []
    },
    {
      "cell_type": "code",
      "source": [
        "print(RMSE,MAE,RS)"
      ],
      "metadata": {
        "id": "4P7TnFicwJ_S"
      },
      "execution_count": null,
      "outputs": []
    },
    {
      "cell_type": "code",
      "source": [
        "from sklearn.model_selection import train_test_split"
      ],
      "metadata": {
        "id": "txrC8zY8wXfh"
      },
      "execution_count": null,
      "outputs": []
    },
    {
      "cell_type": "code",
      "source": [
        "train,test=train_test_split(w,test_size=0.2)"
      ],
      "metadata": {
        "id": "vzK6aw1IwqWx"
      },
      "execution_count": null,
      "outputs": []
    },
    {
      "cell_type": "code",
      "source": [
        "!pip install requests\n",
        "!pip install tabulate\n",
        "!pip install future"
      ],
      "metadata": {
        "id": "ZYG44IrkwtDp"
      },
      "execution_count": null,
      "outputs": []
    },
    {
      "cell_type": "code",
      "source": [
        "!pip install -f http://h2o=release.s3.amazonaws.com/h2o/latest_stable_Py.html h2o"
      ],
      "metadata": {
        "id": "oAt-qreRwxdQ"
      },
      "execution_count": null,
      "outputs": []
    },
    {
      "cell_type": "code",
      "source": [
        "import h2o\n",
        "h2o.init()"
      ],
      "metadata": {
        "id": "HJMo4Xyfw9EA"
      },
      "execution_count": null,
      "outputs": []
    },
    {
      "cell_type": "code",
      "source": [
        "hf_train=h2o.H2OFrame(train)"
      ],
      "metadata": {
        "id": "T2_BAgbAxSV3"
      },
      "execution_count": null,
      "outputs": []
    },
    {
      "cell_type": "code",
      "source": [
        "hf_test=h2o.H2OFrame(test)"
      ],
      "metadata": {
        "id": "xOC2Jf29xcUu"
      },
      "execution_count": null,
      "outputs": []
    },
    {
      "cell_type": "code",
      "source": [
        "hf_train.structure()"
      ],
      "metadata": {
        "id": "PT_6SmS9xiso"
      },
      "execution_count": null,
      "outputs": []
    },
    {
      "cell_type": "code",
      "source": [
        "hf_test.structure()"
      ],
      "metadata": {
        "id": "wNRohv33xlJn"
      },
      "execution_count": null,
      "outputs": []
    },
    {
      "cell_type": "code",
      "source": [
        "from h2o.estimators import H2ODeepLearningEstimator"
      ],
      "metadata": {
        "id": "6Qge09sHxnzH"
      },
      "execution_count": null,
      "outputs": []
    },
    {
      "cell_type": "code",
      "source": [
        "model_h2o=H2ODeepLearningEstimator().train(x=['egg_weight','acc_food'],y='weight',training_frame=hf_train)"
      ],
      "metadata": {
        "id": "0q2gxCITxtRI"
      },
      "execution_count": null,
      "outputs": []
    },
    {
      "cell_type": "code",
      "source": [
        "model_h2o"
      ],
      "metadata": {
        "id": "1GDDMBLjx4P3"
      },
      "execution_count": null,
      "outputs": []
    },
    {
      "cell_type": "code",
      "source": [
        "model_h2o.model_performance()"
      ],
      "metadata": {
        "id": "hVithbggx96P"
      },
      "execution_count": null,
      "outputs": []
    },
    {
      "cell_type": "code",
      "source": [
        "model_h2o.r2()"
      ],
      "metadata": {
        "id": "5Vmw19uoyIv_"
      },
      "execution_count": null,
      "outputs": []
    },
    {
      "cell_type": "code",
      "source": [
        "y_pred_h2o=model_h2o.predict(hf_test)"
      ],
      "metadata": {
        "id": "xTT7eVlTyND2"
      },
      "execution_count": null,
      "outputs": []
    },
    {
      "cell_type": "code",
      "source": [
        "y_pred_h2o.head(5)"
      ],
      "metadata": {
        "id": "LBh6sSVbySA9"
      },
      "execution_count": null,
      "outputs": []
    },
    {
      "cell_type": "code",
      "source": [
        "hf_result=hf_test.cbind(y_pred_h2o)"
      ],
      "metadata": {
        "id": "oPvLBKXiyUE9"
      },
      "execution_count": null,
      "outputs": []
    },
    {
      "cell_type": "code",
      "source": [
        "hf_result.head()"
      ],
      "metadata": {
        "id": "m_VmIdBWyXfd"
      },
      "execution_count": null,
      "outputs": []
    },
    {
      "cell_type": "code",
      "source": [
        "y_test2=hf_result[2].as_data_frame().values"
      ],
      "metadata": {
        "id": "IrnRIn4xyZJ1"
      },
      "execution_count": null,
      "outputs": []
    },
    {
      "cell_type": "code",
      "source": [
        "y_pred_h2o=hf_result[3].as_data_frame().values"
      ],
      "metadata": {
        "id": "00qIH-eryfPF"
      },
      "execution_count": null,
      "outputs": []
    },
    {
      "cell_type": "code",
      "source": [
        "RMSE=mean_squared_error(y_test2,y_pred_h2o,squared=False)\n",
        "MAE=mean_absolute_error(y_test2,y_pred_h2o)\n",
        "RS=r2_score(y_test2,y_pred_h2o)\n",
        "RMSE,MAE,RS"
      ],
      "metadata": {
        "id": "BMzwQiLwyjwc"
      },
      "execution_count": null,
      "outputs": []
    },
    {
      "cell_type": "code",
      "source": [
        "!pip install tensorflow\n",
        "!pip install keras"
      ],
      "metadata": {
        "id": "w06J26Xjy6JM"
      },
      "execution_count": null,
      "outputs": []
    },
    {
      "cell_type": "code",
      "source": [
        "from tensorflow import keras\n",
        "from keras.models import Sequential\n",
        "from keras.layers import Input,Dense"
      ],
      "metadata": {
        "id": "XXSBu7cdzTj8"
      },
      "execution_count": null,
      "outputs": []
    },
    {
      "cell_type": "code",
      "source": [
        "df_train=pd.read_csv('/content/drive/MyDrive/python/ch6-2_train.csv')\n",
        "df_test=pd.read_csv('/content/drive/MyDrive/python/ch6-2_test.csv')\n",
        "x_train=df_train.iloc[:,0:3].values\n",
        "y_train=df_train.iloc[:,3].values\n",
        "x_test=df_test.iloc[:,0:3].values\n",
        "y_test=df_test.iloc[:,3].values"
      ],
      "metadata": {
        "id": "tkqqRSa50tCN"
      },
      "execution_count": null,
      "outputs": []
    },
    {
      "cell_type": "code",
      "source": [
        "df_test.describe()"
      ],
      "metadata": {
        "id": "z9AkUNHfziHT"
      },
      "execution_count": null,
      "outputs": []
    },
    {
      "cell_type": "code",
      "source": [
        "plt.hist(df_train.wing_length)\n",
        "plt.hist(df_train.tail_length)\n",
        "plt.hist(df_train.comb_height)\n",
        "plt.show()"
      ],
      "metadata": {
        "id": "SZfqGFUmzkPz"
      },
      "execution_count": null,
      "outputs": []
    },
    {
      "cell_type": "code",
      "source": [
        "from sklearn.preprocessing import MinMaxScaler"
      ],
      "metadata": {
        "id": "6Gi8SwotzzPS"
      },
      "execution_count": null,
      "outputs": []
    },
    {
      "cell_type": "code",
      "source": [
        "mms=MinMaxScaler().fit(x_train)"
      ],
      "metadata": {
        "id": "qNZ-p2YPz7LK"
      },
      "execution_count": null,
      "outputs": []
    },
    {
      "cell_type": "code",
      "source": [
        "mm_x_train=mms.transform(x_train)\n",
        "mm_x_test=mms.transform(x_test)"
      ],
      "metadata": {
        "id": "nhf1M19dz-g6"
      },
      "execution_count": null,
      "outputs": []
    },
    {
      "cell_type": "code",
      "source": [
        "mm_x_train[0:5]"
      ],
      "metadata": {
        "id": "yHccaIsE0GZ0"
      },
      "execution_count": null,
      "outputs": []
    },
    {
      "cell_type": "code",
      "source": [
        "mm_x_train.min(),mm_x_train.max()"
      ],
      "metadata": {
        "id": "ITv70KZG0Qd2"
      },
      "execution_count": null,
      "outputs": []
    },
    {
      "cell_type": "code",
      "source": [
        "y_train[0:5]"
      ],
      "metadata": {
        "id": "6PHv91Nn0jAx"
      },
      "execution_count": null,
      "outputs": []
    },
    {
      "cell_type": "code",
      "source": [
        "from sklearn.preprocessing import LabelBinarizer"
      ],
      "metadata": {
        "id": "PvorOG0e0mqR"
      },
      "execution_count": null,
      "outputs": []
    },
    {
      "cell_type": "code",
      "source": [
        "lb=LabelBinarizer().fit(y_train)"
      ],
      "metadata": {
        "id": "EdUccM821TZY"
      },
      "execution_count": null,
      "outputs": []
    },
    {
      "cell_type": "code",
      "source": [
        "o_y_train=lb.transform(y_train)\n",
        "o_y_test=lb.transform(y_test)"
      ],
      "metadata": {
        "id": "pJCyJoEF1Ws4"
      },
      "execution_count": null,
      "outputs": []
    },
    {
      "cell_type": "code",
      "source": [
        "o_y_train[0:5]"
      ],
      "metadata": {
        "id": "oKxGEwXv1cU2"
      },
      "execution_count": null,
      "outputs": []
    },
    {
      "cell_type": "code",
      "source": [
        "model=Sequential()\n",
        "model.add(Input(3))\n",
        "model.add(Dense(16,activation='relu'))\n",
        "model.add(Dense(16,activation='relu'))\n",
        "model.add(Dense(3,activation='softmax'))"
      ],
      "metadata": {
        "id": "NAX6eUF71d1-"
      },
      "execution_count": null,
      "outputs": []
    },
    {
      "cell_type": "code",
      "source": [
        "model.summary()"
      ],
      "metadata": {
        "id": "_ossdu481khu"
      },
      "execution_count": null,
      "outputs": []
    },
    {
      "cell_type": "code",
      "source": [
        "model.compile(loss='categorical_crossentropy',optimizer='adam',metrics='accuracy')"
      ],
      "metadata": {
        "id": "G7AV0f2v2AMA"
      },
      "execution_count": null,
      "outputs": []
    },
    {
      "cell_type": "code",
      "source": [
        "history=model.fit(mm_x_train,o_y_train,epochs=300,batch_size=16,validation_split=0.2)"
      ],
      "metadata": {
        "id": "Wb_-MakJ2Pne"
      },
      "execution_count": null,
      "outputs": []
    },
    {
      "cell_type": "code",
      "source": [
        "plt.subplot(1,2,1)\n",
        "plt.plot(history.history['loss'])\n",
        "plt.plot(history.history['val_loss'])\n",
        "plt.subplot(1,2,2)\n",
        "plt.plot(history.history['accuracy'])\n",
        "plt.plot(history.history['val_accuracy'])\n",
        "plt.show()"
      ],
      "metadata": {
        "id": "kj_YezvU2Zce"
      },
      "execution_count": null,
      "outputs": []
    },
    {
      "cell_type": "code",
      "source": [
        "model.evaluate(mm_x_train,o_y_train)"
      ],
      "metadata": {
        "id": "pc6mIQb72ypt"
      },
      "execution_count": null,
      "outputs": []
    },
    {
      "cell_type": "code",
      "source": [
        "model.evaluate(mm_x_test,o_y_test)"
      ],
      "metadata": {
        "id": "u9Yvz_Kk2-f2"
      },
      "execution_count": null,
      "outputs": []
    },
    {
      "cell_type": "code",
      "source": [
        "y_pred[0:5]"
      ],
      "metadata": {
        "id": "ypxi5X2D3Ett"
      },
      "execution_count": null,
      "outputs": []
    },
    {
      "cell_type": "code",
      "source": [
        "y_pred=np.argmax(y_pred,axis=1).reshape(-1)"
      ],
      "metadata": {
        "id": "WWMWY6qu3M40"
      },
      "execution_count": null,
      "outputs": []
    },
    {
      "cell_type": "code",
      "source": [],
      "metadata": {
        "id": "3KqOhW0L3S8j"
      },
      "execution_count": null,
      "outputs": []
    }
  ]
}