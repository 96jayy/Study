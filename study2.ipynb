{
  "nbformat": 4,
  "nbformat_minor": 0,
  "metadata": {
    "colab": {
      "private_outputs": true,
      "provenance": [],
      "toc_visible": true,
      "mount_file_id": "1O1jHTlFqHHuS4FCXaDD_F2f54KSGlyXC",
      "authorship_tag": "ABX9TyMrS9qFYYwozxEiLMDSw0/u",
      "include_colab_link": true
    },
    "kernelspec": {
      "name": "python3",
      "display_name": "Python 3"
    },
    "language_info": {
      "name": "python"
    }
  },
  "cells": [
    {
      "cell_type": "markdown",
      "metadata": {
        "id": "view-in-github",
        "colab_type": "text"
      },
      "source": [
        "<a href=\"https://colab.research.google.com/github/96jayy/Study/blob/main/study2.ipynb\" target=\"_parent\"><img src=\"https://colab.research.google.com/assets/colab-badge.svg\" alt=\"Open In Colab\"/></a>"
      ]
    },
    {
      "cell_type": "markdown",
      "source": [],
      "metadata": {
        "id": "-g6xNchBHzD8"
      }
    },
    {
      "cell_type": "code",
      "source": [
        "a=[1,42,42,2351,13,24]"
      ],
      "metadata": {
        "id": "gFtOOgcfA3MK"
      },
      "execution_count": null,
      "outputs": []
    }
  ]
}